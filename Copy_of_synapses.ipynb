{
  "nbformat": 4,
  "nbformat_minor": 0,
  "metadata": {
    "colab": {
      "name": "Copy of synapses.ipynb",
      "version": "0.3.2",
      "provenance": [],
      "include_colab_link": true
    },
    "kernelspec": {
      "display_name": "Python 3",
      "language": "python",
      "name": "python3"
    }
  },
  "cells": [
    {
      "cell_type": "markdown",
      "metadata": {
        "id": "view-in-github",
        "colab_type": "text"
      },
      "source": [
        "<a href=\"https://colab.research.google.com/github/Kbackma1/BIO494-NeuroData/blob/master/Copy_of_synapses.ipynb\" target=\"_parent\"><img src=\"https://colab.research.google.com/assets/colab-badge.svg\" alt=\"Open In Colab\"/></a>"
      ]
    },
    {
      "metadata": {
        "id": "szzj9poT5E1j",
        "colab_type": "text"
      },
      "cell_type": "markdown",
      "source": [
        "# Synapses: the substrate of learning and memory"
      ]
    },
    {
      "metadata": {
        "id": "g_r99vnO5E1o",
        "colab_type": "code",
        "colab": {}
      },
      "cell_type": "code",
      "source": [
        "%matplotlib inline\n",
        "import matplotlib.pyplot as plt\n",
        "import numpy as np\n",
        "import scipy\n",
        "import pandas as pd\n",
        "import seaborn as sns\n",
        "sns.set(font_scale=1.5) # Nice big fonts\n",
        "import warnings\n",
        "warnings.filterwarnings(\"ignore\") # Turn off distracting warning messages that you don't need to see"
      ],
      "execution_count": 0,
      "outputs": []
    },
    {
      "metadata": {
        "id": "eD-kC9Be5E1v",
        "colab_type": "code",
        "outputId": "882a629f-8fe7-4f2c-a80f-d74850c8c296",
        "colab": {
          "base_uri": "https://localhost:8080/",
          "height": 17
        }
      },
      "cell_type": "code",
      "source": [
        "# Make my dataframes big for slideshow mode\n",
        "from IPython.display import HTML\n",
        "HTML(\"\"\"<style>\n",
        "table.dataframe {\n",
        "font-size:150%;\n",
        "}\n",
        "</style>\"\"\")"
      ],
      "execution_count": 0,
      "outputs": [
        {
          "output_type": "execute_result",
          "data": {
            "text/html": [
              "<style>\n",
              "table.dataframe {\n",
              "font-size:150%;\n",
              "}\n",
              "</style>"
            ],
            "text/plain": [
              "<IPython.core.display.HTML object>"
            ]
          },
          "metadata": {
            "tags": []
          },
          "execution_count": 2
        }
      ]
    },
    {
      "metadata": {
        "id": "yzXKaGN05E18",
        "colab_type": "text"
      },
      "cell_type": "markdown",
      "source": [
        "## What is synaptic transmission?"
      ]
    },
    {
      "metadata": {
        "id": "99qFTZtg5E1-",
        "colab_type": "code",
        "outputId": "6c88711b-7f6b-4caa-a4c2-a7f273c2202b",
        "colab": {
          "base_uri": "https://localhost:8080/",
          "height": 321
        }
      },
      "cell_type": "code",
      "source": [
        "from IPython.display import YouTubeVideo\n",
        "YouTubeVideo(\"WhowH0kb7n0\")"
      ],
      "execution_count": 0,
      "outputs": [
        {
          "output_type": "execute_result",
          "data": {
            "text/html": [
              "\n",
              "        <iframe\n",
              "            width=\"400\"\n",
              "            height=\"300\"\n",
              "            src=\"https://www.youtube.com/embed/WhowH0kb7n0\"\n",
              "            frameborder=\"0\"\n",
              "            allowfullscreen\n",
              "        ></iframe>\n",
              "        "
            ],
            "text/plain": [
              "<IPython.lib.display.YouTubeVideo at 0x7ffac2829fd0>"
            ],
            "image/jpeg": "[encoded data removed]"
          },
          "metadata": {
            "tags": []
          },
          "execution_count": 3
        }
      ]
    },
    {
      "metadata": {
        "id": "6t56Pu885E2F",
        "colab_type": "text"
      },
      "cell_type": "markdown",
      "source": [
        "## \"Presynaptic\" and \"Postsynaptic\"\n",
        "<img src=\"http://openneuronproject.org/wp-content/uploads/2016/08/synapse.png\" width=\"400px\">"
      ]
    },
    {
      "metadata": {
        "id": "NZ2Ic2DW5E2G",
        "colab_type": "text"
      },
      "cell_type": "markdown",
      "source": [
        "### The \"strength\" of a synapse is how effectively the presynaptic neuron can excite the postsynaptic neuron via synaptic transmission.  "
      ]
    },
    {
      "metadata": {
        "id": "ZTf0wA9g5E2J",
        "colab_type": "text"
      },
      "cell_type": "markdown",
      "source": [
        "### Let's see what happens to the activity of neurons as we increase or decrease the strength of synapses"
      ]
    },
    {
      "metadata": {
        "id": "yrAS3TEm5E2M",
        "colab_type": "code",
        "outputId": "f6c446b6-6828-46b3-ea43-640fce07de97",
        "colab": {
          "base_uri": "https://localhost:8080/",
          "height": 381
        }
      },
      "cell_type": "code",
      "source": [
        "# Import a Python module I wrote for simple neuronal network simulation using the Brian2 package\n",
        "import hh\n",
        "from hh import nS # Nanosiemens, a unit of conductance\n",
        "\n",
        "# Run a simulation with 2 synaptically connected neurons, one excitatory and one inhibitory, but with no synaptic strength!\n",
        "traces, spikes, phenotypes = hh.go(n_neurons=2, w_e=0*nS, w_i=0*nS)\n",
        "hh.plot_traces(traces, phenotypes)"
      ],
      "execution_count": 0,
      "outputs": [
        {
          "output_type": "error",
          "ename": "ModuleNotFoundError",
          "evalue": "ignored",
          "traceback": [
            "\u001b[0;31m---------------------------------------------------------------------------\u001b[0m",
            "\u001b[0;31mModuleNotFoundError\u001b[0m                       Traceback (most recent call last)",
            "\u001b[0;32m<ipython-input-4-5474da846b2a>\u001b[0m in \u001b[0;36m<module>\u001b[0;34m()\u001b[0m\n\u001b[0;32m----> 1\u001b[0;31m \u001b[0;32mimport\u001b[0m \u001b[0mhh\u001b[0m\u001b[0;34m\u001b[0m\u001b[0;34m\u001b[0m\u001b[0m\n\u001b[0m\u001b[1;32m      2\u001b[0m \u001b[0;32mfrom\u001b[0m \u001b[0mhh\u001b[0m \u001b[0;32mimport\u001b[0m \u001b[0mnS\u001b[0m \u001b[0;31m# Nanosiemens, a unit of conductance\u001b[0m\u001b[0;34m\u001b[0m\u001b[0;34m\u001b[0m\u001b[0m\n\u001b[1;32m      3\u001b[0m \u001b[0;34m\u001b[0m\u001b[0m\n\u001b[1;32m      4\u001b[0m \u001b[0;31m# Run a simulation with 2 synaptically connected neurons, one excitatory and one inhibitory, but with no synaptic strength!\u001b[0m\u001b[0;34m\u001b[0m\u001b[0;34m\u001b[0m\u001b[0;34m\u001b[0m\u001b[0m\n\u001b[1;32m      5\u001b[0m \u001b[0mtraces\u001b[0m\u001b[0;34m,\u001b[0m \u001b[0mspikes\u001b[0m\u001b[0;34m,\u001b[0m \u001b[0mphenotypes\u001b[0m \u001b[0;34m=\u001b[0m \u001b[0mhh\u001b[0m\u001b[0;34m.\u001b[0m\u001b[0mgo\u001b[0m\u001b[0;34m(\u001b[0m\u001b[0mn_neurons\u001b[0m\u001b[0;34m=\u001b[0m\u001b[0;36m2\u001b[0m\u001b[0;34m,\u001b[0m \u001b[0mw_e\u001b[0m\u001b[0;34m=\u001b[0m\u001b[0;36m0\u001b[0m\u001b[0;34m*\u001b[0m\u001b[0mnS\u001b[0m\u001b[0;34m,\u001b[0m \u001b[0mw_i\u001b[0m\u001b[0;34m=\u001b[0m\u001b[0;36m0\u001b[0m\u001b[0;34m*\u001b[0m\u001b[0mnS\u001b[0m\u001b[0;34m)\u001b[0m\u001b[0;34m\u001b[0m\u001b[0;34m\u001b[0m\u001b[0m\n",
            "\u001b[0;31mModuleNotFoundError\u001b[0m: No module named 'hh'",
            "",
            "\u001b[0;31m---------------------------------------------------------------------------\u001b[0;32m\nNOTE: If your import is failing due to a missing package, you can\nmanually install dependencies using either !pip or !apt.\n\nTo view examples of installing some common dependencies, click the\n\"Open Examples\" button below.\n\u001b[0;31m---------------------------------------------------------------------------\u001b[0m\n"
          ]
        }
      ]
    },
    {
      "metadata": {
        "id": "YMmsTQVG5E2V",
        "colab_type": "text"
      },
      "cell_type": "markdown",
      "source": [
        "### Let's turn on the excitatory synapse"
      ]
    },
    {
      "metadata": {
        "id": "Ly0H5Eu05E2Y",
        "colab_type": "code",
        "colab": {}
      },
      "cell_type": "code",
      "source": [
        "traces, spikes, phenotypes = hh.go(n_neurons=2, w_e=15*hh.nS, w_i=0*hh.nS)\n",
        "hh.plot_traces(traces, phenotypes)"
      ],
      "execution_count": 0,
      "outputs": []
    },
    {
      "metadata": {
        "id": "1OnmoaWc5E2g",
        "colab_type": "text"
      },
      "cell_type": "markdown",
      "source": [
        "### Let's turn up the strength of the excitatory synapse"
      ]
    },
    {
      "metadata": {
        "id": "iHaHAJqP5E2m",
        "colab_type": "code",
        "colab": {}
      },
      "cell_type": "code",
      "source": [
        "traces, spikes, phenotypes = hh.go(n_neurons=2, w_e=25*nS, w_i=0*nS)\n",
        "hh.plot_traces(traces, phenotypes)"
      ],
      "execution_count": 0,
      "outputs": []
    },
    {
      "metadata": {
        "id": "HEs68U585E2z",
        "colab_type": "text"
      },
      "cell_type": "markdown",
      "source": [
        "### Now let's turn up the strength of the inhibitory synapse"
      ]
    },
    {
      "metadata": {
        "id": "4NDTsbQ15E22",
        "colab_type": "code",
        "colab": {}
      },
      "cell_type": "code",
      "source": [
        "traces, spikes, phenotypes = hh.go(n_neurons=2, w_e=25*hh.nS, w_i=20*hh.nS)\n",
        "hh.plot_traces(traces, phenotypes)"
      ],
      "execution_count": 0,
      "outputs": []
    },
    {
      "metadata": {
        "id": "nGZpqgBw5E29",
        "colab_type": "text"
      },
      "cell_type": "markdown",
      "source": [
        "## How does this produce learning and memory?"
      ]
    },
    {
      "metadata": {
        "id": "2z_b0Lwn5E3A",
        "colab_type": "text"
      },
      "cell_type": "markdown",
      "source": [
        "#### Hebb, 1949"
      ]
    },
    {
      "metadata": {
        "id": "12yKAYKM5E3C",
        "colab_type": "text"
      },
      "cell_type": "markdown",
      "source": [
        "![hebb](http://www.scholarpedia.org/w/images/f/f0/Cell_Asseblies_Hebb_original_figure.gif)"
      ]
    },
    {
      "metadata": {
        "id": "z9lPlBKp5E3E",
        "colab_type": "text"
      },
      "cell_type": "markdown",
      "source": [
        "![assemblies](https://www.researchgate.net/profile/Alexandre_Linhares/publication/262150025/figure/fig1/AS:214037309726732@1428041879350/Cell-assemblies-the-information-encoded-in-a-single-neuron-is-negligible-and-fragile.png)"
      ]
    },
    {
      "metadata": {
        "id": "oEIZhtPE5E3G",
        "colab_type": "text"
      },
      "cell_type": "markdown",
      "source": [
        "<img src=\"https://neuronaldynamics.epfl.ch/online/x589.png\" width=\"600px\">"
      ]
    },
    {
      "metadata": {
        "id": "1feRr86C5E3I",
        "colab_type": "text"
      },
      "cell_type": "markdown",
      "source": [
        "## Where is the math (and data analysis) in these processes?"
      ]
    },
    {
      "metadata": {
        "id": "Zh3S8dDG5E3K",
        "colab_type": "text"
      },
      "cell_type": "markdown",
      "source": [
        "#### - Signalling pathways (many differential equations!)"
      ]
    },
    {
      "metadata": {
        "id": "TN1bWycf5E3M",
        "colab_type": "text"
      },
      "cell_type": "markdown",
      "source": [
        "<img src=\"http://science.sciencemag.org/content/sci/298/5594/776/F2.large.jpg\" width=\"600px\">"
      ]
    },
    {
      "metadata": {
        "id": "rm_vSsIa5E3O",
        "colab_type": "text"
      },
      "cell_type": "markdown",
      "source": [
        "#### - Determining what changed to make the synapse stronger or weaker"
      ]
    },
    {
      "metadata": {
        "id": "yJvlumRJ5E3R",
        "colab_type": "text"
      },
      "cell_type": "markdown",
      "source": [
        "<img src=\"http://openneuronproject.org/wp-content/uploads/2016/08/synapse.png\" width=\"400px\">"
      ]
    },
    {
      "metadata": {
        "id": "8uTSo3yR5E3U",
        "colab_type": "text"
      },
      "cell_type": "markdown",
      "source": [
        "#### P = Probability of releasing a vesicle (mediated by presynaptic machinery)\n",
        "#### Q = Impact of one vesicle (amount of neurotransmitter or number of receptors)\n",
        "#### N = Number of sites where a vesicle might be released (at one or more synapses)"
      ]
    },
    {
      "metadata": {
        "id": "3x4oV0Ns5E3W",
        "colab_type": "text"
      },
      "cell_type": "markdown",
      "source": [
        "![coins](https://previews.123rf.com/images/wrangel/wrangel1209/wrangel120900447/15451796-us-coins-collection-isolated-on-white-obverse-and-reverse.jpg)"
      ]
    },
    {
      "metadata": {
        "id": "KK2RzfB85E3Z",
        "colab_type": "text"
      },
      "cell_type": "markdown",
      "source": [
        "### Mean strength across events: $\\mu = P*Q*N$\n",
        "### Variance in strength across events: $\\sigma^2 = N*Q^2*P*(1-P)$\n",
        "### Coefficient of variation = $\\frac{\\sigma}{\\mu} = \\sqrt{\\frac{1-P}{P*N}}$"
      ]
    },
    {
      "metadata": {
        "id": "wvt27fEO5E3a",
        "colab_type": "code",
        "colab": {}
      },
      "cell_type": "code",
      "source": [
        "def plot_psp(n=10, q=0.1, p=1, count=1):\n",
        "    plt.figure(figsize=(10,3))\n",
        "    t = np.arange(50)\n",
        "    strengths = q*np.random.binomial(n, p, size=count)\n",
        "    for i,strength in enumerate(strengths):\n",
        "        y = strength*t*np.exp(-t/5)\n",
        "        plt.plot(t,y,label=\"Postsynaptic membrane potential\" if i==0 else None)\n",
        "    plt.plot([5,5],[0,strengths.max()*2],'--',label=\"Peak where 'strength' is measured\")\n",
        "    plt.xlabel(\"Time (s)\")\n",
        "    plt.ylabel(\"Amplitude (mV)\")\n",
        "    plt.legend()\n",
        "plot_psp()"
      ],
      "execution_count": 0,
      "outputs": []
    },
    {
      "metadata": {
        "id": "YoLzzBvG5E3j",
        "colab_type": "code",
        "colab": {}
      },
      "cell_type": "code",
      "source": [
        "plot_psp(p=0.5, count=20)"
      ],
      "execution_count": 0,
      "outputs": []
    },
    {
      "metadata": {
        "id": "DjCgcQ685E3s",
        "colab_type": "code",
        "colab": {}
      },
      "cell_type": "code",
      "source": [
        "plot_psp(p=1, count=20)"
      ],
      "execution_count": 0,
      "outputs": []
    },
    {
      "metadata": {
        "id": "T9H193jP5E3z",
        "colab_type": "code",
        "colab": {}
      },
      "cell_type": "code",
      "source": [
        "plot_psp(p=0, count=20)"
      ],
      "execution_count": 0,
      "outputs": []
    },
    {
      "metadata": {
        "id": "y6Hvkbb55E34",
        "colab_type": "text"
      },
      "cell_type": "markdown",
      "source": [
        "### Mean strength across events: $\\mu = P*Q*N$\n",
        "### Variance in strength across events: \n",
        "#### $\\sigma^2 = N*Q^2*P*(1-P)$\n",
        "#### $= N*Q^2*P - N*Q^2*P^2$ \n",
        "#### $= \\mu*Q - \\mu^2/N$\n"
      ]
    },
    {
      "metadata": {
        "id": "5kDMqUTm5E36",
        "colab_type": "code",
        "colab": {}
      },
      "cell_type": "code",
      "source": [
        "p = np.arange(0,1,0.01)\n",
        "n = 10\n",
        "q = 0.01\n",
        "mu = p*q*n\n",
        "sigma2 = mu*q - mu*mu/n\n",
        "plt.figure(figsize=(10,3))\n",
        "plt.plot(mu, sigma2, '+',label=\"Observed $\\mu$ and $\\sigma^2$\")\n",
        "plt.plot([0,0.01],[0,0.01*q],label=\"Initial slope (q)\")\n",
        "plt.xlabel('Mean\\n$\\mu = p*q*n$')\n",
        "plt.ylabel('Variance\\n$\\sigma^2 = \\mu*q - \\mu^2/n$')\n",
        "plt.legend(loc=1);"
      ],
      "execution_count": 0,
      "outputs": []
    }
  ]
}